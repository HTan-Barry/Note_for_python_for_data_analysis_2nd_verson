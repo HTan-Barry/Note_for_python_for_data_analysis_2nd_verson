{
 "cells": [
  {
   "cell_type": "markdown",
   "metadata": {},
   "source": [
    "# 函数（function)"
   ]
  },
  {
   "cell_type": "markdown",
   "metadata": {},
   "source": [
    "1. 多个返回值"
   ]
  },
  {
   "cell_type": "code",
   "execution_count": 1,
   "metadata": {},
   "outputs": [],
   "source": [
    "'''多个返回值'''\n",
    "def my_function(x, y, z = None):\n",
    "    if z == 'plus':\n",
    "        return x + y\n",
    "    else:\n",
    "        return None #缺省时使用 None"
   ]
  },
  {
   "cell_type": "code",
   "execution_count": 4,
   "metadata": {},
   "outputs": [
    {
     "name": "stdout",
     "output_type": "stream",
     "text": [
      "None\n",
      "3\n",
      "3\n",
      "3\n"
     ]
    }
   ],
   "source": [
    "##函数可用一下四种形式调用\n",
    "print(my_function(1, 2))\n",
    "print(my_function(1, 2, 'plus'))\n",
    "print(my_function(1, 2, z = 'plus'))\n",
    "print(my_function(y = 1, z = 'plus', x = 2))#标注参数可提高阅读性"
   ]
  },
  {
   "cell_type": "markdown",
   "metadata": {},
   "source": [
    "2. 命名空间（namespace)、作用域（全局global、局部local）"
   ]
  },
  {
   "cell_type": "code",
   "execution_count": 8,
   "metadata": {},
   "outputs": [
    {
     "data": {
      "text/plain": [
       "[0, 1, 2, 3, 4]"
      ]
     },
     "execution_count": 8,
     "metadata": {},
     "output_type": "execute_result"
    }
   ],
   "source": [
    "#局部命名空间（local namespace）：函数执行完毕将销毁\n",
    "def func_local():\n",
    "    a = []\n",
    "    for i in range(5):\n",
    "        a.append(i)\n",
    "    return a\n",
    "func_local()"
   ]
  },
  {
   "cell_type": "code",
   "execution_count": 12,
   "metadata": {},
   "outputs": [
    {
     "name": "stdout",
     "output_type": "stream",
     "text": [
      "[0, 1, 2, 3, 4]\n",
      "[0, 1, 2, 3, 4]\n"
     ]
    }
   ],
   "source": [
    "#全局命名空间（global namespace）：函数对全局变量进行操作\n",
    "a = []\n",
    "def func_global():\n",
    "    for i in range(5):\n",
    "        a.append(i)\n",
    "    return a\n",
    "print(func_local())\n",
    "print(a)"
   ]
  },
  {
   "cell_type": "code",
   "execution_count": 15,
   "metadata": {},
   "outputs": [
    {
     "name": "stdout",
     "output_type": "stream",
     "text": [
      "<class 'NoneType'>\n",
      "<class 'list'>\n"
     ]
    }
   ],
   "source": [
    "a = None\n",
    "print(type(a))\n",
    "def func_bind_a_variavle(): #调用全局变量进行操作\n",
    "    global a\n",
    "    a = []\n",
    "func_bind_a_variavle()\n",
    "print(type(a))"
   ]
  },
  {
   "cell_type": "markdown",
   "metadata": {},
   "source": [
    "3. 返回多个值"
   ]
  },
  {
   "cell_type": "code",
   "execution_count": 25,
   "metadata": {},
   "outputs": [
    {
     "name": "stdout",
     "output_type": "stream",
     "text": [
      "a:  5 \n",
      " b:  6 \n",
      " c: 7\n",
      "(5, 6, 7) \n",
      " <class 'tuple'>\n"
     ]
    }
   ],
   "source": [
    "def f():\n",
    "    a = 5\n",
    "    b = 6\n",
    "    c = 7\n",
    "    return a, b, c\n",
    "\n",
    "a, b, c = f()#返回多个对象\n",
    "print('a: ',a ,'\\n', 'b: ', b, '\\n c:', c)\n",
    "return_value = f()#返回一个turple\n",
    "print(return_value, '\\n', type(return_value))"
   ]
  },
  {
   "cell_type": "code",
   "execution_count": 28,
   "metadata": {},
   "outputs": [
    {
     "data": {
      "text/plain": [
       "{'a': 5, 'b': 6, 'c': 7}"
      ]
     },
     "execution_count": 28,
     "metadata": {},
     "output_type": "execute_result"
    }
   ],
   "source": [
    "def f_dic():#返回dictionary\n",
    "    a = 5\n",
    "    b = 6\n",
    "    c = 7\n",
    "    return {'a':a ,'b': b ,'c': c}\n",
    "f_dic()"
   ]
  },
  {
   "cell_type": "markdown",
   "metadata": {},
   "source": [
    "4. 函数作为对象（objective）进行编程"
   ]
  },
  {
   "cell_type": "code",
   "execution_count": 34,
   "metadata": {},
   "outputs": [],
   "source": [
    "states = ['   Alabama ', 'Georgia!', 'Georgia', 'georgia', 'FlOrIda',\\\n",
    "          'south   carolina##', 'West virginia?']\n",
    "import re"
   ]
  },
  {
   "cell_type": "code",
   "execution_count": 38,
   "metadata": {},
   "outputs": [],
   "source": [
    "str.strip?"
   ]
  },
  {
   "cell_type": "code",
   "execution_count": 40,
   "metadata": {},
   "outputs": [
    {
     "data": {
      "text/plain": [
       "['Alabama',\n",
       " 'Georgia',\n",
       " 'Georgia',\n",
       " 'Georgia',\n",
       " 'Florida',\n",
       " 'South Carolina',\n",
       " 'West Virginia']"
      ]
     },
     "execution_count": 40,
     "metadata": {},
     "output_type": "execute_result"
    }
   ],
   "source": [
    "##利用函数进行数据清理以及转换\n",
    "def clean_string(strings):\n",
    "    result = []\n",
    "    for value in strings:\n",
    "        value = value.strip()#去除前后的空格\n",
    "        value = re.sub('[!#?]', '',value)#去掉！#？等符号\n",
    "        value = re.sub('   ', ' ',value)#去掉多余空格 \n",
    "        value = value.title()#第一个字母大写\n",
    "        result.append(value)\n",
    "    return result\n",
    "clean_string(states)"
   ]
  },
  {
   "cell_type": "code",
   "execution_count": 41,
   "metadata": {},
   "outputs": [
    {
     "data": {
      "text/plain": [
       "['Alabama',\n",
       " 'Georgia',\n",
       " 'Georgia',\n",
       " 'Georgia',\n",
       " 'Florida',\n",
       " 'South   Carolina',\n",
       " 'West Virginia']"
      ]
     },
     "execution_count": 41,
     "metadata": {},
     "output_type": "execute_result"
    }
   ],
   "source": [
    "##也可将需要的操作（function）组成一个列表(list)\n",
    "def remove_punctuation(value):\n",
    "    return re.sub('[!#?]', '', value)\n",
    "\n",
    "def clean_strings(strings, ops):\n",
    "    result = []\n",
    "    for value in strings:\n",
    "        for function in ops:\n",
    "            value = function(value)#对每个数值依次进行所有操作\n",
    "        result.append(value)\n",
    "    return result\n",
    "\n",
    "clean_ops = [str.strip, remove_punctuation, str.title]#list of function\n",
    "clean_strings(states, clean_ops)"
   ]
  },
  {
   "cell_type": "code",
   "execution_count": 45,
   "metadata": {},
   "outputs": [
    {
     "name": "stdout",
     "output_type": "stream",
     "text": [
      "   Alabama \n",
      "Georgia\n",
      "Georgia\n",
      "georgia\n",
      "FlOrIda\n",
      "south   carolina\n",
      "West virginia\n"
     ]
    }
   ],
   "source": [
    "for x in map(remove_punctuation, states): #使用map函数用于修改list\n",
    "    print (x)"
   ]
  },
  {
   "cell_type": "markdown",
   "metadata": {},
   "source": [
    "4. 匿名函数（lambda）:相比与def定义的function（函数），函数本身没有name属性"
   ]
  },
  {
   "cell_type": "code",
   "execution_count": 46,
   "metadata": {},
   "outputs": [
    {
     "data": {
      "text/plain": [
       "function"
      ]
     },
     "execution_count": 46,
     "metadata": {},
     "output_type": "execute_result"
    }
   ],
   "source": [
    "def short_function(x): #常规方法定义函数\n",
    "    return x * 2\n",
    "\n",
    "equiv_anon = lambda x: x * 2 #使用lambda定义函数（function），上下效果相同\n",
    "type(equiv_anon)"
   ]
  },
  {
   "cell_type": "code",
   "execution_count": 47,
   "metadata": {},
   "outputs": [
    {
     "data": {
      "text/plain": [
       "[8, 0, 2, 10, 12]"
      ]
     },
     "execution_count": 47,
     "metadata": {},
     "output_type": "execute_result"
    }
   ],
   "source": [
    "#使用匿名函数示例1\n",
    "def apply_to_list(some_list, f):\n",
    "    return [f(x) for x in some_list]\n",
    "\n",
    "ints = [4, 0, 1, 5, 6]\n",
    "apply_to_list(ints, lambda x: x * 2)"
   ]
  },
  {
   "cell_type": "code",
   "execution_count": 48,
   "metadata": {},
   "outputs": [
    {
     "data": {
      "text/plain": [
       "['aaaa', 'foo', 'abab', 'bar', 'card']"
      ]
     },
     "execution_count": 48,
     "metadata": {},
     "output_type": "execute_result"
    }
   ],
   "source": [
    "#使用匿名函数示例2：根据不同字母的数量进行排序\n",
    "strings = ['foo', 'card', 'bar', 'aaaa', 'abab']\n",
    "strings.sort(key=lambda x: len(set(list(x))))\n",
    "strings"
   ]
  },
  {
   "cell_type": "code",
   "execution_count": 49,
   "metadata": {},
   "outputs": [
    {
     "name": "stdout",
     "output_type": "stream",
     "text": [
      "['c', 'a', 'r', 'd']\n",
      "{'d', 'c', 'r', 'a'}\n"
     ]
    },
    {
     "data": {
      "text/plain": [
       "4"
      ]
     },
     "execution_count": 49,
     "metadata": {},
     "output_type": "execute_result"
    }
   ],
   "source": [
    "#对这个lambda函数进行解析\n",
    "x = list('card') #将str转为单个字母的列表\n",
    "print(x)\n",
    "x = set(x) #转化为set，以字母排序\n",
    "print(x)\n",
    "len(x)"
   ]
  },
  {
   "cell_type": "markdown",
   "metadata": {},
   "source": [
    "5. Curring（柯里化）：部分参数应用(partial argument appliction)"
   ]
  },
  {
   "cell_type": "code",
   "execution_count": 1,
   "metadata": {},
   "outputs": [],
   "source": [
    "def add_numbers(x, y):\n",
    "    return x + y\n",
    "add_five = lambda y: add_numbers(5, y) #curried: 定义一个调用现有函数的新函数"
   ]
  },
  {
   "cell_type": "code",
   "execution_count": 3,
   "metadata": {},
   "outputs": [
    {
     "data": {
      "text/plain": [
       "11"
      ]
     },
     "execution_count": 3,
     "metadata": {},
     "output_type": "execute_result"
    }
   ],
   "source": [
    "print(type(add_five))\n",
    "add_five(6)"
   ]
  },
  {
   "cell_type": "code",
   "execution_count": 5,
   "metadata": {},
   "outputs": [
    {
     "data": {
      "text/plain": [
       "12"
      ]
     },
     "execution_count": 5,
     "metadata": {},
     "output_type": "execute_result"
    }
   ],
   "source": [
    "from functools import partial #利用functools.pertial简化curring过程\n",
    "add_five = partial(add_numbers, 5)\n",
    "add_five(7)"
   ]
  },
  {
   "cell_type": "markdown",
   "metadata": {},
   "source": [
    "6. generators(生成器)"
   ]
  },
  {
   "cell_type": "markdown",
   "metadata": {},
   "source": [
    "iterator protpocol（迭代器协议）：能以一种一致的方式对序列进行迭代（比如列表中的对象或文件中的行）"
   ]
  },
  {
   "cell_type": "code",
   "execution_count": 6,
   "metadata": {},
   "outputs": [
    {
     "name": "stdout",
     "output_type": "stream",
     "text": [
      "a\n",
      "b\n",
      "c\n"
     ]
    }
   ],
   "source": [
    "some_dict = {'a': 1, 'b': 2, 'c': 3}\n",
    "for key in some_dict: #对dict进行iterication输出所有key\n",
    "    print(key)"
   ]
  },
  {
   "cell_type": "code",
   "execution_count": 7,
   "metadata": {},
   "outputs": [
    {
     "data": {
      "text/plain": [
       "<dict_keyiterator at 0x1d85db3fa98>"
      ]
     },
     "execution_count": 7,
     "metadata": {},
     "output_type": "execute_result"
    }
   ],
   "source": [
    "#for循环中，首先生成一个iterator，向interpreter（编译器）输送对象\n",
    "dict_iterator = iter(some_dict)\n",
    "dict_iterator"
   ]
  },
  {
   "cell_type": "code",
   "execution_count": 10,
   "metadata": {},
   "outputs": [
    {
     "name": "stdout",
     "output_type": "stream",
     "text": [
      "['a', 'b', 'c']\n",
      "('a', 'b', 'c')\n",
      "c\n"
     ]
    }
   ],
   "source": [
    "dict_iterator = iter(some_dict)\n",
    "print(list(dict_iterator))\n",
    "dict_iterator = iter(some_dict)\n",
    "print(tuple(dict_iterator))\n",
    "dict_iterator = iter(some_dict)\n",
    "print(max(dict_iterator))"
   ]
  },
  {
   "cell_type": "markdown",
   "metadata": {},
   "source": [
    "与iterator相比，generator以延迟的方式返回一个值的序列，每返回一个值之后暂停，直到下一个值被请求时再继续。"
   ]
  },
  {
   "cell_type": "code",
   "execution_count": 17,
   "metadata": {},
   "outputs": [],
   "source": [
    "def squares(n = 10): # 创建generator\n",
    "    print('Generating squares from 1 to {0}', format(n ** 2))\n",
    "    for i in range(1, n + 1):\n",
    "        yield i ** 2 # 创建一个生成器，只需将函数中的return替换为yeild即可"
   ]
  },
  {
   "cell_type": "code",
   "execution_count": 25,
   "metadata": {},
   "outputs": [
    {
     "data": {
      "text/plain": [
       "<generator object squares at 0x000001D85F6A2D48>"
      ]
     },
     "execution_count": 25,
     "metadata": {},
     "output_type": "execute_result"
    }
   ],
   "source": [
    "gen =  squares()\n",
    "gen #call (调用）generator后没有任何代码立即执行"
   ]
  },
  {
   "cell_type": "code",
   "execution_count": 26,
   "metadata": {},
   "outputs": [
    {
     "name": "stdout",
     "output_type": "stream",
     "text": [
      "Generating squares from 1 to {0} 100\n",
      "1\n",
      "4\n",
      "9\n",
      "16\n",
      "25\n",
      "36\n",
      "49\n",
      "64\n",
      "81\n",
      "100\n"
     ]
    }
   ],
   "source": [
    "for x in gen: # 直到从generator中request elements时，generator才会被执行\n",
    "    print(x)"
   ]
  },
  {
   "cell_type": "code",
   "execution_count": 33,
   "metadata": {},
   "outputs": [
    {
     "name": "stdout",
     "output_type": "stream",
     "text": [
      "0 1 4 9 16 25 36 49 64 81 "
     ]
    }
   ],
   "source": [
    "# generator expression(生成器表达式)可替代上面代码：\n",
    "gen_short = (x ** 2 for x in range (11))# 生成generator\n",
    "gen = gen_short #call generator\n",
    "for x in gen:\n",
    "    print(x, end = ' ')"
   ]
  },
  {
   "cell_type": "code",
   "execution_count": 38,
   "metadata": {},
   "outputs": [
    {
     "name": "stdout",
     "output_type": "stream",
     "text": [
      "328350\n"
     ]
    },
    {
     "data": {
      "text/plain": [
       "{0: 0, 1: 1, 2: 4, 3: 9, 4: 16}"
      ]
     },
     "execution_count": 38,
     "metadata": {},
     "output_type": "execute_result"
    }
   ],
   "source": [
    "# generator expression取代 list comprehensions（列表推导式）作为\n",
    "# function arguments（函数参数）\n",
    "print(sum(x ** 2 for x in range(100)))\n",
    "dict((i, i ** 2) for i in range(5))"
   ]
  },
  {
   "cell_type": "markdown",
   "metadata": {},
   "source": [
    "7. itertools 模块"
   ]
  },
  {
   "cell_type": "code",
   "execution_count": 40,
   "metadata": {},
   "outputs": [],
   "source": [
    "# itertools 模块中又用于许多常见数据算法的生成器\n",
    "import itertools\n",
    "first_letter = lambda x: x[0]\n",
    "names = ['Alan', 'Adam', 'Wes', 'Will', 'Albert', 'Steven']"
   ]
  },
  {
   "cell_type": "code",
   "execution_count": 41,
   "metadata": {},
   "outputs": [
    {
     "name": "stdout",
     "output_type": "stream",
     "text": [
      "A ['Alan', 'Adam']\n",
      "W ['Wes', 'Will']\n",
      "A ['Albert']\n",
      "S ['Steven']\n"
     ]
    }
   ],
   "source": [
    "# itertools.groupby根据函数的返回值对序列中的连续元素进行分组\n",
    "for letter, name in itertools.groupby(names, first_letter):\n",
    "    print(letter, list(name)) # name at here is a generator"
   ]
  },
  {
   "cell_type": "code",
   "execution_count": 50,
   "metadata": {},
   "outputs": [
    {
     "name": "stdout",
     "output_type": "stream",
     "text": [
      "('Alan', 'Adam', 'Wes') ('Alan', 'Adam', 'Will') ('Alan', 'Adam', 'Albert') ('Alan', 'Adam', 'Steven') ('Alan', 'Wes', 'Will') ('Alan', 'Wes', 'Albert') ('Alan', 'Wes', 'Steven') ('Alan', 'Will', 'Albert') ('Alan', 'Will', 'Steven') ('Alan', 'Albert', 'Steven') ('Adam', 'Wes', 'Will') ('Adam', 'Wes', 'Albert') ('Adam', 'Wes', 'Steven') ('Adam', 'Will', 'Albert') ('Adam', 'Will', 'Steven') ('Adam', 'Albert', 'Steven') ('Wes', 'Will', 'Albert') ('Wes', 'Will', 'Steven') ('Wes', 'Albert', 'Steven') ('Will', 'Albert', 'Steven') ('Alan', 'Adam', 'Wes') ('Alan', 'Adam', 'Will') ('Alan', 'Adam', 'Albert') ('Alan', 'Adam', 'Steven') ('Alan', 'Wes', 'Adam') ('Alan', 'Wes', 'Will') ('Alan', 'Wes', 'Albert') ('Alan', 'Wes', 'Steven') ('Alan', 'Will', 'Adam') ('Alan', 'Will', 'Wes') ('Alan', 'Will', 'Albert') ('Alan', 'Will', 'Steven') ('Alan', 'Albert', 'Adam') ('Alan', 'Albert', 'Wes') ('Alan', 'Albert', 'Will') ('Alan', 'Albert', 'Steven') ('Alan', 'Steven', 'Adam') ('Alan', 'Steven', 'Wes') ('Alan', 'Steven', 'Will') ('Alan', 'Steven', 'Albert') ('Adam', 'Alan', 'Wes') ('Adam', 'Alan', 'Will') ('Adam', 'Alan', 'Albert') ('Adam', 'Alan', 'Steven') ('Adam', 'Wes', 'Alan') ('Adam', 'Wes', 'Will') ('Adam', 'Wes', 'Albert') ('Adam', 'Wes', 'Steven') ('Adam', 'Will', 'Alan') ('Adam', 'Will', 'Wes') ('Adam', 'Will', 'Albert') ('Adam', 'Will', 'Steven') ('Adam', 'Albert', 'Alan') ('Adam', 'Albert', 'Wes') ('Adam', 'Albert', 'Will') ('Adam', 'Albert', 'Steven') ('Adam', 'Steven', 'Alan') ('Adam', 'Steven', 'Wes') ('Adam', 'Steven', 'Will') ('Adam', 'Steven', 'Albert') ('Wes', 'Alan', 'Adam') ('Wes', 'Alan', 'Will') ('Wes', 'Alan', 'Albert') ('Wes', 'Alan', 'Steven') ('Wes', 'Adam', 'Alan') ('Wes', 'Adam', 'Will') ('Wes', 'Adam', 'Albert') ('Wes', 'Adam', 'Steven') ('Wes', 'Will', 'Alan') ('Wes', 'Will', 'Adam') ('Wes', 'Will', 'Albert') ('Wes', 'Will', 'Steven') ('Wes', 'Albert', 'Alan') ('Wes', 'Albert', 'Adam') ('Wes', 'Albert', 'Will') ('Wes', 'Albert', 'Steven') ('Wes', 'Steven', 'Alan') ('Wes', 'Steven', 'Adam') ('Wes', 'Steven', 'Will') ('Wes', 'Steven', 'Albert') ('Will', 'Alan', 'Adam') ('Will', 'Alan', 'Wes') ('Will', 'Alan', 'Albert') ('Will', 'Alan', 'Steven') ('Will', 'Adam', 'Alan') ('Will', 'Adam', 'Wes') ('Will', 'Adam', 'Albert') ('Will', 'Adam', 'Steven') ('Will', 'Wes', 'Alan') ('Will', 'Wes', 'Adam') ('Will', 'Wes', 'Albert') ('Will', 'Wes', 'Steven') ('Will', 'Albert', 'Alan') ('Will', 'Albert', 'Adam') ('Will', 'Albert', 'Wes') ('Will', 'Albert', 'Steven') ('Will', 'Steven', 'Alan') ('Will', 'Steven', 'Adam') ('Will', 'Steven', 'Wes') ('Will', 'Steven', 'Albert') ('Albert', 'Alan', 'Adam') ('Albert', 'Alan', 'Wes') ('Albert', 'Alan', 'Will') ('Albert', 'Alan', 'Steven') ('Albert', 'Adam', 'Alan') ('Albert', 'Adam', 'Wes') ('Albert', 'Adam', 'Will') ('Albert', 'Adam', 'Steven') ('Albert', 'Wes', 'Alan') ('Albert', 'Wes', 'Adam') ('Albert', 'Wes', 'Will') ('Albert', 'Wes', 'Steven') ('Albert', 'Will', 'Alan') ('Albert', 'Will', 'Adam') ('Albert', 'Will', 'Wes') ('Albert', 'Will', 'Steven') ('Albert', 'Steven', 'Alan') ('Albert', 'Steven', 'Adam') ('Albert', 'Steven', 'Wes') ('Albert', 'Steven', 'Will') ('Steven', 'Alan', 'Adam') ('Steven', 'Alan', 'Wes') ('Steven', 'Alan', 'Will') ('Steven', 'Alan', 'Albert') ('Steven', 'Adam', 'Alan') ('Steven', 'Adam', 'Wes') ('Steven', 'Adam', 'Will') ('Steven', 'Adam', 'Albert') ('Steven', 'Wes', 'Alan') ('Steven', 'Wes', 'Adam') ('Steven', 'Wes', 'Will') ('Steven', 'Wes', 'Albert') ('Steven', 'Will', 'Alan') ('Steven', 'Will', 'Adam') ('Steven', 'Will', 'Wes') ('Steven', 'Will', 'Albert') ('Steven', 'Albert', 'Alan') ('Steven', 'Albert', 'Adam') ('Steven', 'Albert', 'Wes') ('Steven', 'Albert', 'Will') "
     ]
    }
   ],
   "source": [
    "#常用itertools函数\n",
    "for name in itertools.combinations(names, 3):#列出所有可能的k元元组数列\n",
    "    print(name, end = ' ')\n",
    "for name in itertools.permutations(names, 3):#列出所有可能的k元元组数列，考虑重复\n",
    "    print(name, end = ' ')"
   ]
  },
  {
   "cell_type": "markdown",
   "metadata": {},
   "source": [
    "8. 错误和异常处理"
   ]
  },
  {
   "cell_type": "code",
   "execution_count": 2,
   "metadata": {},
   "outputs": [],
   "source": [
    "#异常处理格式\n",
    "def attempt_float(x):\n",
    "    try:\n",
    "        return float(x)\n",
    "    except:\n",
    "        return x #当try部分出问题才会执行except部分"
   ]
  },
  {
   "cell_type": "code",
   "execution_count": 3,
   "metadata": {},
   "outputs": [
    {
     "data": {
      "text/plain": [
       "3.0"
      ]
     },
     "execution_count": 3,
     "metadata": {},
     "output_type": "execute_result"
    }
   ],
   "source": [
    "attempt_float(3)"
   ]
  },
  {
   "cell_type": "code",
   "execution_count": 4,
   "metadata": {},
   "outputs": [
    {
     "data": {
      "text/plain": [
       "'string'"
      ]
     },
     "execution_count": 4,
     "metadata": {},
     "output_type": "execute_result"
    }
   ],
   "source": [
    "attempt_float('string')"
   ]
  },
  {
   "cell_type": "code",
   "execution_count": 5,
   "metadata": {},
   "outputs": [],
   "source": [
    "#只处理部分类型的错误\n",
    "def attempt_float(x):\n",
    "    try:\n",
    "        return float(x)\n",
    "    except ValueError:\n",
    "        return 'value error'\n",
    "    except TypeError:\n",
    "        return 'type error'"
   ]
  },
  {
   "cell_type": "code",
   "execution_count": 6,
   "metadata": {},
   "outputs": [
    {
     "data": {
      "text/plain": [
       "'value error'"
      ]
     },
     "execution_count": 6,
     "metadata": {},
     "output_type": "execute_result"
    }
   ],
   "source": [
    "attempt_float('string')"
   ]
  },
  {
   "cell_type": "code",
   "execution_count": 1,
   "metadata": {},
   "outputs": [
    {
     "ename": "NameError",
     "evalue": "name 'attempt_float' is not defined",
     "output_type": "error",
     "traceback": [
      "\u001b[1;31m---------------------------------------------------------------------------\u001b[0m",
      "\u001b[1;31mNameError\u001b[0m                                 Traceback (most recent call last)",
      "\u001b[1;32m<ipython-input-1-76a69a6cf687>\u001b[0m in \u001b[0;36m<module>\u001b[1;34m\u001b[0m\n\u001b[1;32m----> 1\u001b[1;33m \u001b[0mattempt_float\u001b[0m\u001b[1;33m(\u001b[0m\u001b[1;33m(\u001b[0m\u001b[1;36m1\u001b[0m\u001b[1;33m,\u001b[0m \u001b[1;36m5\u001b[0m\u001b[1;33m)\u001b[0m\u001b[1;33m)\u001b[0m\u001b[1;33m\u001b[0m\u001b[1;33m\u001b[0m\u001b[0m\n\u001b[0m",
      "\u001b[1;31mNameError\u001b[0m: name 'attempt_float' is not defined"
     ]
    }
   ],
   "source": [
    "attempt_float((1, 5))"
   ]
  }
 ],
 "metadata": {
  "kernelspec": {
   "display_name": "Python 3",
   "language": "python",
   "name": "python3"
  },
  "language_info": {
   "codemirror_mode": {
    "name": "ipython",
    "version": 3
   },
   "file_extension": ".py",
   "mimetype": "text/x-python",
   "name": "python",
   "nbconvert_exporter": "python",
   "pygments_lexer": "ipython3",
   "version": "3.7.6"
  }
 },
 "nbformat": 4,
 "nbformat_minor": 4
}
